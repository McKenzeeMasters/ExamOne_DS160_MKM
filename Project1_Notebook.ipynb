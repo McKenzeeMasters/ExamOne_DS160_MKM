{
 "cells": [
  {
   "cell_type": "markdown",
   "id": "a2146bda",
   "metadata": {},
   "source": [
    "# Programming Project 1 analysis using EDA tools"
   ]
  },
  {
   "cell_type": "markdown",
   "id": "80ebb0b7",
   "metadata": {},
   "source": [
    "### Import Modules"
   ]
  },
  {
   "cell_type": "code",
   "execution_count": 1,
   "id": "b88f1a96",
   "metadata": {},
   "outputs": [],
   "source": [
    "import numpy as np\n",
    "import pandas as pd\n",
    "import matplotlib.pyplot as plt\n",
    "import seaborn as sns"
   ]
  },
  {
   "cell_type": "code",
   "execution_count": 2,
   "id": "c25d2afb",
   "metadata": {},
   "outputs": [
    {
     "data": {
      "text/html": [
       "<div>\n",
       "<style scoped>\n",
       "    .dataframe tbody tr th:only-of-type {\n",
       "        vertical-align: middle;\n",
       "    }\n",
       "\n",
       "    .dataframe tbody tr th {\n",
       "        vertical-align: top;\n",
       "    }\n",
       "\n",
       "    .dataframe thead th {\n",
       "        text-align: right;\n",
       "    }\n",
       "</style>\n",
       "<table border=\"1\" class=\"dataframe\">\n",
       "  <thead>\n",
       "    <tr style=\"text-align: right;\">\n",
       "      <th></th>\n",
       "      <th>Initials</th>\n",
       "      <th>Date</th>\n",
       "      <th>Course_ID</th>\n",
       "      <th>Time (min)</th>\n",
       "      <th>Summary</th>\n",
       "    </tr>\n",
       "  </thead>\n",
       "  <tbody>\n",
       "    <tr>\n",
       "      <th>0</th>\n",
       "      <td>MKM</td>\n",
       "      <td>1/9/2023</td>\n",
       "      <td>DS 160-01</td>\n",
       "      <td>5</td>\n",
       "      <td>Finished filling in quartiles and maximum on P...</td>\n",
       "    </tr>\n",
       "    <tr>\n",
       "      <th>1</th>\n",
       "      <td>MKM</td>\n",
       "      <td>1/9/2023</td>\n",
       "      <td>PHIL 301-01</td>\n",
       "      <td>70</td>\n",
       "      <td>Reading Chapter 2 of Living the Good Life by J...</td>\n",
       "    </tr>\n",
       "    <tr>\n",
       "      <th>2</th>\n",
       "      <td>MKM</td>\n",
       "      <td>1/10/2023</td>\n",
       "      <td>ENVS 320-01</td>\n",
       "      <td>82</td>\n",
       "      <td>Finished class notes</td>\n",
       "    </tr>\n",
       "    <tr>\n",
       "      <th>3</th>\n",
       "      <td>MKM</td>\n",
       "      <td>1/16/2023</td>\n",
       "      <td>ENVS 320-01</td>\n",
       "      <td>60</td>\n",
       "      <td>Finished Lab and submited</td>\n",
       "    </tr>\n",
       "    <tr>\n",
       "      <th>4</th>\n",
       "      <td>MKM</td>\n",
       "      <td>1/17/2023</td>\n",
       "      <td>DS 160-01</td>\n",
       "      <td>30</td>\n",
       "      <td>finished assignment one and submitted</td>\n",
       "    </tr>\n",
       "  </tbody>\n",
       "</table>\n",
       "</div>"
      ],
      "text/plain": [
       "  Initials        Date    Course_ID  Time (min)  \\\n",
       "0       MKM   1/9/2023    DS 160-01           5   \n",
       "1       MKM   1/9/2023  PHIL 301-01          70   \n",
       "2       MKM  1/10/2023  ENVS 320-01          82   \n",
       "3       MKM  1/16/2023  ENVS 320-01          60   \n",
       "4       MKM  1/17/2023    DS 160-01          30   \n",
       "\n",
       "                                             Summary  \n",
       "0  Finished filling in quartiles and maximum on P...  \n",
       "1  Reading Chapter 2 of Living the Good Life by J...  \n",
       "2                               Finished class notes  \n",
       "3                         Finished Lab and submited   \n",
       "4             finished assignment one and submitted   "
      ]
     },
     "execution_count": 2,
     "metadata": {},
     "output_type": "execute_result"
    }
   ],
   "source": [
    "# Load the dataset and save it to a dataframe named 'df'\n",
    "df=pd.read_csv('MKM_Timesheet_Project.csv')\n",
    "df.head()"
   ]
  },
  {
   "attachments": {
    "image.png": {
     "image/png": "[encoded data removed]"
    }
   },
   "cell_type": "markdown",
   "id": "aa8079a6",
   "metadata": {},
   "source": [
    "### Investigate your dataset using pandas modules and do the tasks. At the end the dataframe will be look like: \n",
    "![image.png](attachment:image.png)"
   ]
  },
  {
   "cell_type": "code",
   "execution_count": 3,
   "id": "5ecd1215",
   "metadata": {},
   "outputs": [
    {
     "data": {
      "text/html": [
       "<div>\n",
       "<style scoped>\n",
       "    .dataframe tbody tr th:only-of-type {\n",
       "        vertical-align: middle;\n",
       "    }\n",
       "\n",
       "    .dataframe tbody tr th {\n",
       "        vertical-align: top;\n",
       "    }\n",
       "\n",
       "    .dataframe thead th {\n",
       "        text-align: right;\n",
       "    }\n",
       "</style>\n",
       "<table border=\"1\" class=\"dataframe\">\n",
       "  <thead>\n",
       "    <tr style=\"text-align: right;\">\n",
       "      <th></th>\n",
       "      <th>Initials</th>\n",
       "      <th>Date</th>\n",
       "      <th>Course_ID</th>\n",
       "      <th>Time (min)</th>\n",
       "      <th>Summary</th>\n",
       "    </tr>\n",
       "  </thead>\n",
       "  <tbody>\n",
       "    <tr>\n",
       "      <th>0</th>\n",
       "      <td>MKM</td>\n",
       "      <td>2023-01-09</td>\n",
       "      <td>DS 160-01</td>\n",
       "      <td>5</td>\n",
       "      <td>Finished filling in quartiles and maximum on P...</td>\n",
       "    </tr>\n",
       "    <tr>\n",
       "      <th>1</th>\n",
       "      <td>MKM</td>\n",
       "      <td>2023-01-09</td>\n",
       "      <td>PHIL 301-01</td>\n",
       "      <td>70</td>\n",
       "      <td>Reading Chapter 2 of Living the Good Life by J...</td>\n",
       "    </tr>\n",
       "    <tr>\n",
       "      <th>2</th>\n",
       "      <td>MKM</td>\n",
       "      <td>2023-01-10</td>\n",
       "      <td>ENVS 320-01</td>\n",
       "      <td>82</td>\n",
       "      <td>Finished class notes</td>\n",
       "    </tr>\n",
       "    <tr>\n",
       "      <th>3</th>\n",
       "      <td>MKM</td>\n",
       "      <td>2023-01-16</td>\n",
       "      <td>ENVS 320-01</td>\n",
       "      <td>60</td>\n",
       "      <td>Finished Lab and submited</td>\n",
       "    </tr>\n",
       "    <tr>\n",
       "      <th>4</th>\n",
       "      <td>MKM</td>\n",
       "      <td>2023-01-17</td>\n",
       "      <td>DS 160-01</td>\n",
       "      <td>30</td>\n",
       "      <td>finished assignment one and submitted</td>\n",
       "    </tr>\n",
       "  </tbody>\n",
       "</table>\n",
       "</div>"
      ],
      "text/plain": [
       "  Initials        Date    Course_ID  Time (min)  \\\n",
       "0       MKM 2023-01-09    DS 160-01           5   \n",
       "1       MKM 2023-01-09  PHIL 301-01          70   \n",
       "2       MKM 2023-01-10  ENVS 320-01          82   \n",
       "3       MKM 2023-01-16  ENVS 320-01          60   \n",
       "4       MKM 2023-01-17    DS 160-01          30   \n",
       "\n",
       "                                             Summary  \n",
       "0  Finished filling in quartiles and maximum on P...  \n",
       "1  Reading Chapter 2 of Living the Good Life by J...  \n",
       "2                               Finished class notes  \n",
       "3                         Finished Lab and submited   \n",
       "4             finished assignment one and submitted   "
      ]
     },
     "execution_count": 3,
     "metadata": {},
     "output_type": "execute_result"
    }
   ],
   "source": [
    "#converting the date formate\n",
    "df['Date']=pd.to_datetime(df['Date'])\n",
    "df.head() "
   ]
  },
  {
   "cell_type": "code",
   "execution_count": 4,
   "id": "59f62759",
   "metadata": {},
   "outputs": [
    {
     "data": {
      "text/html": [
       "<div>\n",
       "<style scoped>\n",
       "    .dataframe tbody tr th:only-of-type {\n",
       "        vertical-align: middle;\n",
       "    }\n",
       "\n",
       "    .dataframe tbody tr th {\n",
       "        vertical-align: top;\n",
       "    }\n",
       "\n",
       "    .dataframe thead th {\n",
       "        text-align: right;\n",
       "    }\n",
       "</style>\n",
       "<table border=\"1\" class=\"dataframe\">\n",
       "  <thead>\n",
       "    <tr style=\"text-align: right;\">\n",
       "      <th></th>\n",
       "      <th>Initials</th>\n",
       "      <th>Date</th>\n",
       "      <th>Course_ID</th>\n",
       "      <th>Time (min)</th>\n",
       "      <th>Summary</th>\n",
       "      <th>Day</th>\n",
       "      <th>Day_Name</th>\n",
       "    </tr>\n",
       "  </thead>\n",
       "  <tbody>\n",
       "    <tr>\n",
       "      <th>0</th>\n",
       "      <td>MKM</td>\n",
       "      <td>2023-01-09</td>\n",
       "      <td>DS 160-01</td>\n",
       "      <td>5</td>\n",
       "      <td>Finished filling in quartiles and maximum on P...</td>\n",
       "      <td>9</td>\n",
       "      <td>Monday</td>\n",
       "    </tr>\n",
       "    <tr>\n",
       "      <th>1</th>\n",
       "      <td>MKM</td>\n",
       "      <td>2023-01-09</td>\n",
       "      <td>PHIL 301-01</td>\n",
       "      <td>70</td>\n",
       "      <td>Reading Chapter 2 of Living the Good Life by J...</td>\n",
       "      <td>9</td>\n",
       "      <td>Monday</td>\n",
       "    </tr>\n",
       "    <tr>\n",
       "      <th>2</th>\n",
       "      <td>MKM</td>\n",
       "      <td>2023-01-10</td>\n",
       "      <td>ENVS 320-01</td>\n",
       "      <td>82</td>\n",
       "      <td>Finished class notes</td>\n",
       "      <td>10</td>\n",
       "      <td>Tuesday</td>\n",
       "    </tr>\n",
       "    <tr>\n",
       "      <th>3</th>\n",
       "      <td>MKM</td>\n",
       "      <td>2023-01-16</td>\n",
       "      <td>ENVS 320-01</td>\n",
       "      <td>60</td>\n",
       "      <td>Finished Lab and submited</td>\n",
       "      <td>16</td>\n",
       "      <td>Monday</td>\n",
       "    </tr>\n",
       "    <tr>\n",
       "      <th>4</th>\n",
       "      <td>MKM</td>\n",
       "      <td>2023-01-17</td>\n",
       "      <td>DS 160-01</td>\n",
       "      <td>30</td>\n",
       "      <td>finished assignment one and submitted</td>\n",
       "      <td>17</td>\n",
       "      <td>Tuesday</td>\n",
       "    </tr>\n",
       "  </tbody>\n",
       "</table>\n",
       "</div>"
      ],
      "text/plain": [
       "  Initials        Date    Course_ID  Time (min)  \\\n",
       "0       MKM 2023-01-09    DS 160-01           5   \n",
       "1       MKM 2023-01-09  PHIL 301-01          70   \n",
       "2       MKM 2023-01-10  ENVS 320-01          82   \n",
       "3       MKM 2023-01-16  ENVS 320-01          60   \n",
       "4       MKM 2023-01-17    DS 160-01          30   \n",
       "\n",
       "                                             Summary  Day Day_Name  \n",
       "0  Finished filling in quartiles and maximum on P...    9   Monday  \n",
       "1  Reading Chapter 2 of Living the Good Life by J...    9   Monday  \n",
       "2                               Finished class notes   10  Tuesday  \n",
       "3                         Finished Lab and submited    16   Monday  \n",
       "4             finished assignment one and submitted    17  Tuesday  "
      ]
     },
     "execution_count": 4,
     "metadata": {},
     "output_type": "execute_result"
    }
   ],
   "source": [
    "#using the date column to get the day of the month and the day of the week \n",
    "df['Day']=df['Date'].dt.day\n",
    "df['Day_Name']=df['Date'].dt.day_name()\n",
    "df.head()"
   ]
  },
  {
   "cell_type": "code",
   "execution_count": 5,
   "id": "454b01db",
   "metadata": {},
   "outputs": [
    {
     "data": {
      "text/plain": [
       "Index(['Initials ', 'Date', 'Course_ID', 'Time (min)', 'Summary', 'Day',\n",
       "       'Day_Name'],\n",
       "      dtype='object')"
      ]
     },
     "execution_count": 5,
     "metadata": {},
     "output_type": "execute_result"
    }
   ],
   "source": [
    "df.columns"
   ]
  },
  {
   "cell_type": "code",
   "execution_count": 6,
   "id": "ad9d432e",
   "metadata": {},
   "outputs": [],
   "source": [
    "df.drop(['Initials ', 'Summary'], axis=1, inplace=True)\n",
    "#dropping Initial and Summary collumn to match the example and to also remove columns that cannot be used for anlaysis"
   ]
  },
  {
   "cell_type": "code",
   "execution_count": 7,
   "id": "b7ad1bfd",
   "metadata": {},
   "outputs": [
    {
     "data": {
      "text/html": [
       "<div>\n",
       "<style scoped>\n",
       "    .dataframe tbody tr th:only-of-type {\n",
       "        vertical-align: middle;\n",
       "    }\n",
       "\n",
       "    .dataframe tbody tr th {\n",
       "        vertical-align: top;\n",
       "    }\n",
       "\n",
       "    .dataframe thead th {\n",
       "        text-align: right;\n",
       "    }\n",
       "</style>\n",
       "<table border=\"1\" class=\"dataframe\">\n",
       "  <thead>\n",
       "    <tr style=\"text-align: right;\">\n",
       "      <th></th>\n",
       "      <th>Date</th>\n",
       "      <th>Course_ID</th>\n",
       "      <th>Time (min)</th>\n",
       "      <th>Day</th>\n",
       "      <th>Day_Name</th>\n",
       "    </tr>\n",
       "  </thead>\n",
       "  <tbody>\n",
       "    <tr>\n",
       "      <th>0</th>\n",
       "      <td>2023-01-09</td>\n",
       "      <td>DS 160-01</td>\n",
       "      <td>5</td>\n",
       "      <td>9</td>\n",
       "      <td>Monday</td>\n",
       "    </tr>\n",
       "    <tr>\n",
       "      <th>1</th>\n",
       "      <td>2023-01-09</td>\n",
       "      <td>PHIL 301-01</td>\n",
       "      <td>70</td>\n",
       "      <td>9</td>\n",
       "      <td>Monday</td>\n",
       "    </tr>\n",
       "    <tr>\n",
       "      <th>2</th>\n",
       "      <td>2023-01-10</td>\n",
       "      <td>ENVS 320-01</td>\n",
       "      <td>82</td>\n",
       "      <td>10</td>\n",
       "      <td>Tuesday</td>\n",
       "    </tr>\n",
       "    <tr>\n",
       "      <th>3</th>\n",
       "      <td>2023-01-16</td>\n",
       "      <td>ENVS 320-01</td>\n",
       "      <td>60</td>\n",
       "      <td>16</td>\n",
       "      <td>Monday</td>\n",
       "    </tr>\n",
       "    <tr>\n",
       "      <th>4</th>\n",
       "      <td>2023-01-17</td>\n",
       "      <td>DS 160-01</td>\n",
       "      <td>30</td>\n",
       "      <td>17</td>\n",
       "      <td>Tuesday</td>\n",
       "    </tr>\n",
       "  </tbody>\n",
       "</table>\n",
       "</div>"
      ],
      "text/plain": [
       "        Date    Course_ID  Time (min)  Day Day_Name\n",
       "0 2023-01-09    DS 160-01           5    9   Monday\n",
       "1 2023-01-09  PHIL 301-01          70    9   Monday\n",
       "2 2023-01-10  ENVS 320-01          82   10  Tuesday\n",
       "3 2023-01-16  ENVS 320-01          60   16   Monday\n",
       "4 2023-01-17    DS 160-01          30   17  Tuesday"
      ]
     },
     "execution_count": 7,
     "metadata": {},
     "output_type": "execute_result"
    }
   ],
   "source": [
    "df.head()"
   ]
  },
  {
   "cell_type": "code",
   "execution_count": 8,
   "id": "51372574",
   "metadata": {},
   "outputs": [
    {
     "data": {
      "text/html": [
       "<div>\n",
       "<style scoped>\n",
       "    .dataframe tbody tr th:only-of-type {\n",
       "        vertical-align: middle;\n",
       "    }\n",
       "\n",
       "    .dataframe tbody tr th {\n",
       "        vertical-align: top;\n",
       "    }\n",
       "\n",
       "    .dataframe thead th {\n",
       "        text-align: right;\n",
       "    }\n",
       "</style>\n",
       "<table border=\"1\" class=\"dataframe\">\n",
       "  <thead>\n",
       "    <tr style=\"text-align: right;\">\n",
       "      <th></th>\n",
       "      <th>Date</th>\n",
       "      <th>Course_ID</th>\n",
       "      <th>Day</th>\n",
       "      <th>Day_Name</th>\n",
       "      <th>Time(m)</th>\n",
       "    </tr>\n",
       "  </thead>\n",
       "  <tbody>\n",
       "    <tr>\n",
       "      <th>0</th>\n",
       "      <td>2023-01-09</td>\n",
       "      <td>DS 160-01</td>\n",
       "      <td>9</td>\n",
       "      <td>Monday</td>\n",
       "      <td>5</td>\n",
       "    </tr>\n",
       "    <tr>\n",
       "      <th>1</th>\n",
       "      <td>2023-01-09</td>\n",
       "      <td>PHIL 301-01</td>\n",
       "      <td>9</td>\n",
       "      <td>Monday</td>\n",
       "      <td>70</td>\n",
       "    </tr>\n",
       "    <tr>\n",
       "      <th>2</th>\n",
       "      <td>2023-01-10</td>\n",
       "      <td>ENVS 320-01</td>\n",
       "      <td>10</td>\n",
       "      <td>Tuesday</td>\n",
       "      <td>82</td>\n",
       "    </tr>\n",
       "    <tr>\n",
       "      <th>3</th>\n",
       "      <td>2023-01-16</td>\n",
       "      <td>ENVS 320-01</td>\n",
       "      <td>16</td>\n",
       "      <td>Monday</td>\n",
       "      <td>60</td>\n",
       "    </tr>\n",
       "    <tr>\n",
       "      <th>4</th>\n",
       "      <td>2023-01-17</td>\n",
       "      <td>DS 160-01</td>\n",
       "      <td>17</td>\n",
       "      <td>Tuesday</td>\n",
       "      <td>30</td>\n",
       "    </tr>\n",
       "  </tbody>\n",
       "</table>\n",
       "</div>"
      ],
      "text/plain": [
       "        Date    Course_ID  Day Day_Name  Time(m)\n",
       "0 2023-01-09    DS 160-01    9   Monday        5\n",
       "1 2023-01-09  PHIL 301-01    9   Monday       70\n",
       "2 2023-01-10  ENVS 320-01   10  Tuesday       82\n",
       "3 2023-01-16  ENVS 320-01   16   Monday       60\n",
       "4 2023-01-17    DS 160-01   17  Tuesday       30"
      ]
     },
     "execution_count": 8,
     "metadata": {},
     "output_type": "execute_result"
    }
   ],
   "source": [
    "df['Time(m)']=df['Time (min)']\n",
    "df.drop(['Time (min)'], axis=1, inplace=True)\n",
    "df.head()"
   ]
  },
  {
   "cell_type": "code",
   "execution_count": 9,
   "id": "100abb8a",
   "metadata": {},
   "outputs": [
    {
     "data": {
      "text/html": [
       "<div>\n",
       "<style scoped>\n",
       "    .dataframe tbody tr th:only-of-type {\n",
       "        vertical-align: middle;\n",
       "    }\n",
       "\n",
       "    .dataframe tbody tr th {\n",
       "        vertical-align: top;\n",
       "    }\n",
       "\n",
       "    .dataframe thead th {\n",
       "        text-align: right;\n",
       "    }\n",
       "</style>\n",
       "<table border=\"1\" class=\"dataframe\">\n",
       "  <thead>\n",
       "    <tr style=\"text-align: right;\">\n",
       "      <th></th>\n",
       "      <th>Date</th>\n",
       "      <th>Course_ID</th>\n",
       "      <th>Time(m)</th>\n",
       "      <th>Day</th>\n",
       "      <th>Day_Name</th>\n",
       "    </tr>\n",
       "  </thead>\n",
       "  <tbody>\n",
       "    <tr>\n",
       "      <th>0</th>\n",
       "      <td>2023-01-09</td>\n",
       "      <td>DS 160-01</td>\n",
       "      <td>5</td>\n",
       "      <td>9</td>\n",
       "      <td>Monday</td>\n",
       "    </tr>\n",
       "    <tr>\n",
       "      <th>1</th>\n",
       "      <td>2023-01-09</td>\n",
       "      <td>PHIL 301-01</td>\n",
       "      <td>70</td>\n",
       "      <td>9</td>\n",
       "      <td>Monday</td>\n",
       "    </tr>\n",
       "    <tr>\n",
       "      <th>2</th>\n",
       "      <td>2023-01-10</td>\n",
       "      <td>ENVS 320-01</td>\n",
       "      <td>82</td>\n",
       "      <td>10</td>\n",
       "      <td>Tuesday</td>\n",
       "    </tr>\n",
       "    <tr>\n",
       "      <th>3</th>\n",
       "      <td>2023-01-16</td>\n",
       "      <td>ENVS 320-01</td>\n",
       "      <td>60</td>\n",
       "      <td>16</td>\n",
       "      <td>Monday</td>\n",
       "    </tr>\n",
       "    <tr>\n",
       "      <th>4</th>\n",
       "      <td>2023-01-17</td>\n",
       "      <td>DS 160-01</td>\n",
       "      <td>30</td>\n",
       "      <td>17</td>\n",
       "      <td>Tuesday</td>\n",
       "    </tr>\n",
       "  </tbody>\n",
       "</table>\n",
       "</div>"
      ],
      "text/plain": [
       "        Date    Course_ID  Time(m)  Day Day_Name\n",
       "0 2023-01-09    DS 160-01        5    9   Monday\n",
       "1 2023-01-09  PHIL 301-01       70    9   Monday\n",
       "2 2023-01-10  ENVS 320-01       82   10  Tuesday\n",
       "3 2023-01-16  ENVS 320-01       60   16   Monday\n",
       "4 2023-01-17    DS 160-01       30   17  Tuesday"
      ]
     },
     "execution_count": 9,
     "metadata": {},
     "output_type": "execute_result"
    }
   ],
   "source": [
    "df=df[['Date','Course_ID','Time(m)','Day','Day_Name']]\n",
    "df.head()"
   ]
  },
  {
   "cell_type": "markdown",
   "id": "ca955c1f",
   "metadata": {},
   "source": [
    "### Answer the questions"
   ]
  },
  {
   "cell_type": "code",
   "execution_count": 10,
   "id": "d048d6d8",
   "metadata": {},
   "outputs": [
    {
     "name": "stdout",
     "output_type": "stream",
     "text": [
      "Average Time Spent: 52.0\n"
     ]
    }
   ],
   "source": [
    "# What is the average time you have spend for learning?\n",
    "print(\"Average Time Spent:\", np.round(np.mean(np.array(df['Time(m)']))))"
   ]
  },
  {
   "cell_type": "code",
   "execution_count": 11,
   "id": "4e9519da",
   "metadata": {},
   "outputs": [
    {
     "data": {
      "text/plain": [
       "Index(['Date', 'Course_ID', 'Time(m)', 'Day', 'Day_Name'], dtype='object')"
      ]
     },
     "execution_count": 11,
     "metadata": {},
     "output_type": "execute_result"
    }
   ],
   "source": [
    "df.columns"
   ]
  },
  {
   "cell_type": "code",
   "execution_count": 12,
   "id": "3041de1c",
   "metadata": {},
   "outputs": [
    {
     "data": {
      "text/html": [
       "<div>\n",
       "<style scoped>\n",
       "    .dataframe tbody tr th:only-of-type {\n",
       "        vertical-align: middle;\n",
       "    }\n",
       "\n",
       "    .dataframe tbody tr th {\n",
       "        vertical-align: top;\n",
       "    }\n",
       "\n",
       "    .dataframe thead th {\n",
       "        text-align: right;\n",
       "    }\n",
       "</style>\n",
       "<table border=\"1\" class=\"dataframe\">\n",
       "  <thead>\n",
       "    <tr style=\"text-align: right;\">\n",
       "      <th></th>\n",
       "      <th>Date</th>\n",
       "      <th>Course_ID</th>\n",
       "      <th>Time(m)</th>\n",
       "      <th>Day</th>\n",
       "      <th>Day_Name</th>\n",
       "    </tr>\n",
       "  </thead>\n",
       "  <tbody>\n",
       "    <tr>\n",
       "      <th>1</th>\n",
       "      <td>2023-01-09</td>\n",
       "      <td>PHIL 301-01</td>\n",
       "      <td>70</td>\n",
       "      <td>9</td>\n",
       "      <td>Monday</td>\n",
       "    </tr>\n",
       "    <tr>\n",
       "      <th>2</th>\n",
       "      <td>2023-01-10</td>\n",
       "      <td>ENVS 320-01</td>\n",
       "      <td>82</td>\n",
       "      <td>10</td>\n",
       "      <td>Tuesday</td>\n",
       "    </tr>\n",
       "    <tr>\n",
       "      <th>3</th>\n",
       "      <td>2023-01-16</td>\n",
       "      <td>ENVS 320-01</td>\n",
       "      <td>60</td>\n",
       "      <td>16</td>\n",
       "      <td>Monday</td>\n",
       "    </tr>\n",
       "    <tr>\n",
       "      <th>5</th>\n",
       "      <td>2023-01-18</td>\n",
       "      <td>ENVS 390-01</td>\n",
       "      <td>70</td>\n",
       "      <td>18</td>\n",
       "      <td>Wednesday</td>\n",
       "    </tr>\n",
       "    <tr>\n",
       "      <th>8</th>\n",
       "      <td>2023-01-20</td>\n",
       "      <td>DS 160-01</td>\n",
       "      <td>70</td>\n",
       "      <td>20</td>\n",
       "      <td>Friday</td>\n",
       "    </tr>\n",
       "    <tr>\n",
       "      <th>12</th>\n",
       "      <td>2023-01-23</td>\n",
       "      <td>ENVS 320-01</td>\n",
       "      <td>130</td>\n",
       "      <td>23</td>\n",
       "      <td>Monday</td>\n",
       "    </tr>\n",
       "    <tr>\n",
       "      <th>13</th>\n",
       "      <td>2023-01-24</td>\n",
       "      <td>ENVS 320-01</td>\n",
       "      <td>120</td>\n",
       "      <td>24</td>\n",
       "      <td>Tuesday</td>\n",
       "    </tr>\n",
       "    <tr>\n",
       "      <th>14</th>\n",
       "      <td>2023-01-24</td>\n",
       "      <td>ENVS 320-01</td>\n",
       "      <td>140</td>\n",
       "      <td>24</td>\n",
       "      <td>Tuesday</td>\n",
       "    </tr>\n",
       "    <tr>\n",
       "      <th>15</th>\n",
       "      <td>2023-01-24</td>\n",
       "      <td>ENVS 320-01</td>\n",
       "      <td>120</td>\n",
       "      <td>24</td>\n",
       "      <td>Tuesday</td>\n",
       "    </tr>\n",
       "    <tr>\n",
       "      <th>25</th>\n",
       "      <td>2023-02-08</td>\n",
       "      <td>ENVS 390-01</td>\n",
       "      <td>90</td>\n",
       "      <td>8</td>\n",
       "      <td>Wednesday</td>\n",
       "    </tr>\n",
       "    <tr>\n",
       "      <th>26</th>\n",
       "      <td>2023-02-12</td>\n",
       "      <td>ENVS 340-01</td>\n",
       "      <td>60</td>\n",
       "      <td>12</td>\n",
       "      <td>Sunday</td>\n",
       "    </tr>\n",
       "    <tr>\n",
       "      <th>27</th>\n",
       "      <td>2023-02-13</td>\n",
       "      <td>DS 160-01</td>\n",
       "      <td>60</td>\n",
       "      <td>13</td>\n",
       "      <td>Monday</td>\n",
       "    </tr>\n",
       "  </tbody>\n",
       "</table>\n",
       "</div>"
      ],
      "text/plain": [
       "         Date    Course_ID  Time(m)  Day   Day_Name\n",
       "1  2023-01-09  PHIL 301-01       70    9     Monday\n",
       "2  2023-01-10  ENVS 320-01       82   10    Tuesday\n",
       "3  2023-01-16  ENVS 320-01       60   16     Monday\n",
       "5  2023-01-18  ENVS 390-01       70   18  Wednesday\n",
       "8  2023-01-20    DS 160-01       70   20     Friday\n",
       "12 2023-01-23  ENVS 320-01      130   23     Monday\n",
       "13 2023-01-24  ENVS 320-01      120   24    Tuesday\n",
       "14 2023-01-24  ENVS 320-01      140   24    Tuesday\n",
       "15 2023-01-24  ENVS 320-01      120   24    Tuesday\n",
       "25 2023-02-08  ENVS 390-01       90    8  Wednesday\n",
       "26 2023-02-12  ENVS 340-01       60   12     Sunday\n",
       "27 2023-02-13    DS 160-01       60   13     Monday"
      ]
     },
     "execution_count": 12,
     "metadata": {},
     "output_type": "execute_result"
    }
   ],
   "source": [
    "# Display all of the entries where you have spent more than the average time to learn \n",
    "df.loc[(df['Time(m)']>52)]"
   ]
  },
  {
   "cell_type": "code",
   "execution_count": 13,
   "id": "f3a6df1c",
   "metadata": {},
   "outputs": [
    {
     "name": "stdout",
     "output_type": "stream",
     "text": [
      "Max Time Spent: 140\n"
     ]
    }
   ],
   "source": [
    "print('Max Time Spent:', np.max(np.array(df['Time(m)'])))"
   ]
  },
  {
   "cell_type": "code",
   "execution_count": 14,
   "id": "18a45770",
   "metadata": {},
   "outputs": [
    {
     "data": {
      "text/html": [
       "<div>\n",
       "<style scoped>\n",
       "    .dataframe tbody tr th:only-of-type {\n",
       "        vertical-align: middle;\n",
       "    }\n",
       "\n",
       "    .dataframe tbody tr th {\n",
       "        vertical-align: top;\n",
       "    }\n",
       "\n",
       "    .dataframe thead th {\n",
       "        text-align: right;\n",
       "    }\n",
       "</style>\n",
       "<table border=\"1\" class=\"dataframe\">\n",
       "  <thead>\n",
       "    <tr style=\"text-align: right;\">\n",
       "      <th></th>\n",
       "      <th>Date</th>\n",
       "      <th>Course_ID</th>\n",
       "      <th>Time(m)</th>\n",
       "      <th>Day</th>\n",
       "      <th>Day_Name</th>\n",
       "    </tr>\n",
       "  </thead>\n",
       "  <tbody>\n",
       "    <tr>\n",
       "      <th>14</th>\n",
       "      <td>2023-01-24</td>\n",
       "      <td>ENVS 320-01</td>\n",
       "      <td>140</td>\n",
       "      <td>24</td>\n",
       "      <td>Tuesday</td>\n",
       "    </tr>\n",
       "  </tbody>\n",
       "</table>\n",
       "</div>"
      ],
      "text/plain": [
       "         Date    Course_ID  Time(m)  Day Day_Name\n",
       "14 2023-01-24  ENVS 320-01      140   24  Tuesday"
      ]
     },
     "execution_count": 14,
     "metadata": {},
     "output_type": "execute_result"
    }
   ],
   "source": [
    "# Which course you have spent the maximum time to prepare?\n",
    "df.loc[(df['Time(m)']==140)]"
   ]
  },
  {
   "cell_type": "code",
   "execution_count": 15,
   "id": "d4602f36",
   "metadata": {},
   "outputs": [
    {
     "data": {
      "text/plain": [
       "Monday       12\n",
       "Tuesday       5\n",
       "Wednesday     5\n",
       "Sunday        5\n",
       "Friday        1\n",
       "Name: Day_Name, dtype: int64"
      ]
     },
     "execution_count": 15,
     "metadata": {},
     "output_type": "execute_result"
    }
   ],
   "source": [
    "# Which day of the week you spent most of the time?\n",
    "df['Day_Name'].value_counts()"
   ]
  },
  {
   "attachments": {
    "image.png": {
     "image/png": "[encoded data removed]"
    }
   },
   "cell_type": "markdown",
   "id": "7057b32b",
   "metadata": {},
   "source": [
    "### Investigate the distribution of Time, adding the mean. How the data distributed?\n",
    "![image.png](attachment:image.png)"
   ]
  },
  {
   "cell_type": "code",
   "execution_count": 16,
   "id": "1139d061",
   "metadata": {},
   "outputs": [
    {
     "data": {
      "image/png": "[encoded data removed]",
      "text/plain": [
       "<Figure size 432x288 with 1 Axes>"
      ]
     },
     "metadata": {
      "needs_background": "light"
     },
     "output_type": "display_data"
    }
   ],
   "source": [
    "hist_plot=sns.histplot(x='Time(m)', \n",
    "                       data=df,\n",
    "                       edgecolor='black', \n",
    "                       color='blue')\n",
    "# Calculating the mean\n",
    "mean=df['Time(m)'].mean()\n",
    "median=df['Time(m)'].median()\n",
    "#ploting the mean\n",
    "plt.axvline(mean, color='red')\n",
    "plt.axvline(median, color='yellow')\n",
    "\n",
    "plt.show()"
   ]
  },
  {
   "cell_type": "markdown",
   "id": "339fa8b0",
   "metadata": {},
   "source": [
    "### The data is right skewed with an outlier between 120 and 140 mintues. The yellow line is the median and the red line is the mean, so the mean is greater than the median. "
   ]
  },
  {
   "cell_type": "code",
   "execution_count": null,
   "id": "094f3205",
   "metadata": {},
   "outputs": [],
   "source": []
  },
  {
   "attachments": {
    "image.png": {
     "image/png": "[encoded data removed]"
    }
   },
   "cell_type": "markdown",
   "id": "eec25e2f",
   "metadata": {},
   "source": [
    "### Investigate Total time by Day using bar plot - Remove the Confidence Interval - By Course ID. Comment on your findings\n",
    "![image.png](attachment:image.png)"
   ]
  },
  {
   "cell_type": "code",
   "execution_count": 17,
   "id": "236ffedc",
   "metadata": {},
   "outputs": [
    {
     "data": {
      "image/png": "[encoded data removed]",
      "text/plain": [
       "<Figure size 1080x504 with 1 Axes>"
      ]
     },
     "metadata": {
      "needs_background": "light"
     },
     "output_type": "display_data"
    }
   ],
   "source": [
    "fig=plt.figure(figsize=(15,7))\n",
    "bar=sns.barplot(x='Day',\n",
    "                y='Time(m)',\n",
    "                hue='Course_ID', \n",
    "                data=df,\n",
    "                ci=False,\n",
    "                edgecolor='white')\n",
    "plt.legend(loc='upper left')\n",
    "\n",
    "plt.show()"
   ]
  },
  {
   "cell_type": "markdown",
   "id": "4c2b1bf0",
   "metadata": {},
   "source": [
    "### I usualy spend about 60 min on a subject when I work on it, but I do not have many days that I have time to work on school work outside of class. I spend most time working on assignments in ENVS 320 and least on assignments in BUSA 246 and ENVS 340. - McKenzee M. "
   ]
  },
  {
   "attachments": {
    "image.png": {
     "image/png": "[encoded data removed]"
    }
   },
   "cell_type": "markdown",
   "id": "5c2bd3a0",
   "metadata": {},
   "source": [
    "### Investigate the measure of dispersion (table and plot) of time column.\n",
    "![image.png](attachment:image.png)"
   ]
  },
  {
   "cell_type": "code",
   "execution_count": 18,
   "id": "6040d143",
   "metadata": {},
   "outputs": [
    {
     "data": {
      "image/png": "[encoded data removed]",
      "text/plain": [
       "<Figure size 1008x504 with 1 Axes>"
      ]
     },
     "metadata": {
      "needs_background": "light"
     },
     "output_type": "display_data"
    }
   ],
   "source": [
    "plt.figure(figsize=(14,7))\n",
    "sns.boxplot(x=df['Time(m)'], \n",
    "            orient='h')\n",
    "\n",
    "plt.show()"
   ]
  },
  {
   "cell_type": "markdown",
   "id": "480c52ee",
   "metadata": {},
   "source": [
    "### Most of the time amounts I spend working on assignments is between 20 and 70 minutes, with a minimum of less than 10 and a maximum of 140 minuntes. The median is a little less than 40 minutes. - McKenzee M. "
   ]
  },
  {
   "cell_type": "code",
   "execution_count": null,
   "id": "1fd7d761",
   "metadata": {},
   "outputs": [],
   "source": []
  },
  {
   "attachments": {
    "image.png": {
     "image/png": "[encoded data removed]"
    }
   },
   "cell_type": "markdown",
   "id": "78127f6e",
   "metadata": {},
   "source": [
    "### Investigate the the distribution of time by Day_name\n",
    "![image.png](attachment:image.png)"
   ]
  },
  {
   "cell_type": "code",
   "execution_count": 19,
   "id": "f803830d",
   "metadata": {},
   "outputs": [
    {
     "data": {
      "image/png": "[encoded data removed]",
      "text/plain": [
       "<Figure size 432x288 with 1 Axes>"
      ]
     },
     "metadata": {
      "needs_background": "light"
     },
     "output_type": "display_data"
    }
   ],
   "source": [
    "box=sns.boxplot(x='Day_Name', \n",
    "                y='Time(m)',\n",
    "                data=df)"
   ]
  },
  {
   "cell_type": "code",
   "execution_count": null,
   "id": "84d5bdda",
   "metadata": {},
   "outputs": [],
   "source": []
  },
  {
   "attachments": {
    "image.png": {
     "image/png": "[encoded data removed]"
    }
   },
   "cell_type": "markdown",
   "id": "3fdf0d65",
   "metadata": {},
   "source": [
    "### Use lmplots to plot Day and Time , remove error bar, add hue and display by column\n",
    "![image.png](attachment:image.png)"
   ]
  },
  {
   "cell_type": "code",
   "execution_count": 20,
   "id": "e42a3145",
   "metadata": {},
   "outputs": [
    {
     "data": {
      "text/plain": [
       "Index(['Date', 'Course_ID', 'Time(m)', 'Day', 'Day_Name'], dtype='object')"
      ]
     },
     "execution_count": 20,
     "metadata": {},
     "output_type": "execute_result"
    }
   ],
   "source": [
    "df.columns"
   ]
  },
  {
   "cell_type": "code",
   "execution_count": 21,
   "id": "b026ded9",
   "metadata": {},
   "outputs": [
    {
     "data": {
      "text/plain": [
       "<Figure size 1080x504 with 0 Axes>"
      ]
     },
     "metadata": {},
     "output_type": "display_data"
    },
    {
     "data": {
      "image/png": "[encoded data removed]",
      "text/plain": [
       "<Figure size 1728x288 with 6 Axes>"
      ]
     },
     "metadata": {
      "needs_background": "light"
     },
     "output_type": "display_data"
    }
   ],
   "source": [
    "fig=plt.figure(figsize=(15,7))\n",
    "\n",
    "sns.lmplot(x='Day', \n",
    "            y='Time(m)', \n",
    "            data=df, \n",
    "            ci=False, \n",
    "            hue='Course_ID',  \n",
    "            col='Course_ID', \n",
    "            height=4)\n",
    "\n",
    "plt.show()"
   ]
  },
  {
   "cell_type": "code",
   "execution_count": null,
   "id": "d1a2b4bc",
   "metadata": {},
   "outputs": [],
   "source": []
  },
  {
   "attachments": {
    "image.png": {
     "image/png": "[encoded data removed]"
    }
   },
   "cell_type": "markdown",
   "id": "3dcf7147",
   "metadata": {},
   "source": [
    "### Create a pair plot of Day and Time and add course id as hue\n",
    "![image.png](attachment:image.png)"
   ]
  },
  {
   "cell_type": "code",
   "execution_count": 22,
   "id": "d6ccdd7e",
   "metadata": {},
   "outputs": [
    {
     "data": {
      "text/html": [
       "<div>\n",
       "<style scoped>\n",
       "    .dataframe tbody tr th:only-of-type {\n",
       "        vertical-align: middle;\n",
       "    }\n",
       "\n",
       "    .dataframe tbody tr th {\n",
       "        vertical-align: top;\n",
       "    }\n",
       "\n",
       "    .dataframe thead th {\n",
       "        text-align: right;\n",
       "    }\n",
       "</style>\n",
       "<table border=\"1\" class=\"dataframe\">\n",
       "  <thead>\n",
       "    <tr style=\"text-align: right;\">\n",
       "      <th></th>\n",
       "      <th>Time(m)</th>\n",
       "      <th>Day</th>\n",
       "    </tr>\n",
       "  </thead>\n",
       "  <tbody>\n",
       "    <tr>\n",
       "      <th>0</th>\n",
       "      <td>5</td>\n",
       "      <td>9</td>\n",
       "    </tr>\n",
       "    <tr>\n",
       "      <th>1</th>\n",
       "      <td>70</td>\n",
       "      <td>9</td>\n",
       "    </tr>\n",
       "    <tr>\n",
       "      <th>2</th>\n",
       "      <td>82</td>\n",
       "      <td>10</td>\n",
       "    </tr>\n",
       "    <tr>\n",
       "      <th>3</th>\n",
       "      <td>60</td>\n",
       "      <td>16</td>\n",
       "    </tr>\n",
       "    <tr>\n",
       "      <th>4</th>\n",
       "      <td>30</td>\n",
       "      <td>17</td>\n",
       "    </tr>\n",
       "    <tr>\n",
       "      <th>5</th>\n",
       "      <td>70</td>\n",
       "      <td>18</td>\n",
       "    </tr>\n",
       "    <tr>\n",
       "      <th>6</th>\n",
       "      <td>10</td>\n",
       "      <td>18</td>\n",
       "    </tr>\n",
       "    <tr>\n",
       "      <th>7</th>\n",
       "      <td>15</td>\n",
       "      <td>18</td>\n",
       "    </tr>\n",
       "    <tr>\n",
       "      <th>8</th>\n",
       "      <td>70</td>\n",
       "      <td>20</td>\n",
       "    </tr>\n",
       "    <tr>\n",
       "      <th>9</th>\n",
       "      <td>36</td>\n",
       "      <td>22</td>\n",
       "    </tr>\n",
       "    <tr>\n",
       "      <th>10</th>\n",
       "      <td>38</td>\n",
       "      <td>22</td>\n",
       "    </tr>\n",
       "    <tr>\n",
       "      <th>11</th>\n",
       "      <td>26</td>\n",
       "      <td>23</td>\n",
       "    </tr>\n",
       "    <tr>\n",
       "      <th>12</th>\n",
       "      <td>130</td>\n",
       "      <td>23</td>\n",
       "    </tr>\n",
       "    <tr>\n",
       "      <th>13</th>\n",
       "      <td>120</td>\n",
       "      <td>24</td>\n",
       "    </tr>\n",
       "    <tr>\n",
       "      <th>14</th>\n",
       "      <td>140</td>\n",
       "      <td>24</td>\n",
       "    </tr>\n",
       "    <tr>\n",
       "      <th>15</th>\n",
       "      <td>120</td>\n",
       "      <td>24</td>\n",
       "    </tr>\n",
       "    <tr>\n",
       "      <th>16</th>\n",
       "      <td>30</td>\n",
       "      <td>29</td>\n",
       "    </tr>\n",
       "    <tr>\n",
       "      <th>17</th>\n",
       "      <td>25</td>\n",
       "      <td>29</td>\n",
       "    </tr>\n",
       "    <tr>\n",
       "      <th>18</th>\n",
       "      <td>47</td>\n",
       "      <td>30</td>\n",
       "    </tr>\n",
       "    <tr>\n",
       "      <th>19</th>\n",
       "      <td>18</td>\n",
       "      <td>30</td>\n",
       "    </tr>\n",
       "    <tr>\n",
       "      <th>20</th>\n",
       "      <td>23</td>\n",
       "      <td>30</td>\n",
       "    </tr>\n",
       "    <tr>\n",
       "      <th>21</th>\n",
       "      <td>15</td>\n",
       "      <td>30</td>\n",
       "    </tr>\n",
       "    <tr>\n",
       "      <th>22</th>\n",
       "      <td>20</td>\n",
       "      <td>30</td>\n",
       "    </tr>\n",
       "    <tr>\n",
       "      <th>23</th>\n",
       "      <td>39</td>\n",
       "      <td>30</td>\n",
       "    </tr>\n",
       "    <tr>\n",
       "      <th>24</th>\n",
       "      <td>17</td>\n",
       "      <td>1</td>\n",
       "    </tr>\n",
       "    <tr>\n",
       "      <th>25</th>\n",
       "      <td>90</td>\n",
       "      <td>8</td>\n",
       "    </tr>\n",
       "    <tr>\n",
       "      <th>26</th>\n",
       "      <td>60</td>\n",
       "      <td>12</td>\n",
       "    </tr>\n",
       "    <tr>\n",
       "      <th>27</th>\n",
       "      <td>60</td>\n",
       "      <td>13</td>\n",
       "    </tr>\n",
       "  </tbody>\n",
       "</table>\n",
       "</div>"
      ],
      "text/plain": [
       "    Time(m)  Day\n",
       "0         5    9\n",
       "1        70    9\n",
       "2        82   10\n",
       "3        60   16\n",
       "4        30   17\n",
       "5        70   18\n",
       "6        10   18\n",
       "7        15   18\n",
       "8        70   20\n",
       "9        36   22\n",
       "10       38   22\n",
       "11       26   23\n",
       "12      130   23\n",
       "13      120   24\n",
       "14      140   24\n",
       "15      120   24\n",
       "16       30   29\n",
       "17       25   29\n",
       "18       47   30\n",
       "19       18   30\n",
       "20       23   30\n",
       "21       15   30\n",
       "22       20   30\n",
       "23       39   30\n",
       "24       17    1\n",
       "25       90    8\n",
       "26       60   12\n",
       "27       60   13"
      ]
     },
     "execution_count": 22,
     "metadata": {},
     "output_type": "execute_result"
    }
   ],
   "source": [
    "df[['Time(m)','Day']]"
   ]
  },
  {
   "cell_type": "code",
   "execution_count": 23,
   "id": "9c955dfb",
   "metadata": {},
   "outputs": [
    {
     "name": "stderr",
     "output_type": "stream",
     "text": [
      "No artists with labels found to put in legend.  Note that artists whose label start with an underscore are ignored when legend() is called with no argument.\n"
     ]
    },
    {
     "data": {
      "image/png": "[encoded data removed]",
      "text/plain": [
       "<Figure size 462.125x360 with 6 Axes>"
      ]
     },
     "metadata": {
      "needs_background": "light"
     },
     "output_type": "display_data"
    }
   ],
   "source": [
    "sns.pairplot(df,\n",
    "             hue='Course_ID',\n",
    "            )  \n",
    "plt.legend(loc='center right')\n",
    "plt.show()"
   ]
  },
  {
   "attachments": {
    "image.png": {
     "image/png": "[encoded data removed]"
    }
   },
   "cell_type": "markdown",
   "id": "7d88c4a9",
   "metadata": {},
   "source": [
    "### Display the Heatmap and comment on your findings\n",
    "![image.png](attachment:image.png)"
   ]
  },
  {
   "cell_type": "code",
   "execution_count": 24,
   "id": "250a6397",
   "metadata": {},
   "outputs": [
    {
     "data": {
      "image/png": "[encoded data removed]",
      "text/plain": [
       "<Figure size 432x288 with 2 Axes>"
      ]
     },
     "metadata": {
      "needs_background": "light"
     },
     "output_type": "display_data"
    }
   ],
   "source": [
    "corr=df[['Time(m)','Day']].corr(method='pearson')\n",
    "\n",
    "cols=['Time(m)','Day']\n",
    "heat_map=sns.heatmap(corr, \n",
    "                     annot=True, \n",
    "                     xticklabels=cols, \n",
    "                     yticklabels=cols)"
   ]
  },
  {
   "cell_type": "markdown",
   "id": "2adc5435",
   "metadata": {},
   "source": [
    "### There is a small negative correlation with day of the month and time spent working on assignments. So as the month days increase I spend less time on assigments, but the correlation is very small and I feel as though I consistently have assignments to work on through out the month. "
   ]
  },
  {
   "cell_type": "code",
   "execution_count": 28,
   "id": "9081b4a7",
   "metadata": {},
   "outputs": [
    {
     "data": {
      "image/png": "[encoded data removed]",
      "text/plain": [
       "<Figure size 360x360 with 1 Axes>"
      ]
     },
     "metadata": {
      "needs_background": "light"
     },
     "output_type": "display_data"
    }
   ],
   "source": [
    "line=sns.lmplot(x='Time(m)', \n",
    "                  y='Day', \n",
    "                  data=df, \n",
    "                  ci=False)"
   ]
  },
  {
   "cell_type": "code",
   "execution_count": null,
   "id": "a6c62126",
   "metadata": {},
   "outputs": [],
   "source": []
  }
 ],
 "metadata": {
  "kernelspec": {
   "display_name": "Python 3 (ipykernel)",
   "language": "python",
   "name": "python3"
  },
  "language_info": {
   "codemirror_mode": {
    "name": "ipython",
    "version": 3
   },
   "file_extension": ".py",
   "mimetype": "text/x-python",
   "name": "python",
   "nbconvert_exporter": "python",
   "pygments_lexer": "ipython3",
   "version": "3.9.12"
  }
 },
 "nbformat": 4,
 "nbformat_minor": 5
}
